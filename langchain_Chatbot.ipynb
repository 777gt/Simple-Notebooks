{
  "nbformat": 4,
  "nbformat_minor": 0,
  "metadata": {
    "colab": {
      "provenance": []
    },
    "kernelspec": {
      "name": "python3",
      "display_name": "Python 3"
    },
    "language_info": {
      "name": "python"
    }
  },
  "cells": [
    {
      "cell_type": "code",
      "source": [
        "!pip install langchain --quiet\n",
        "!pip install openai --quiet"
      ],
      "metadata": {
        "id": "u_4xlS9FM_d3"
      },
      "execution_count": null,
      "outputs": []
    },
    {
      "cell_type": "code",
      "execution_count": null,
      "metadata": {
        "id": "wsa1m1fKM-ZO"
      },
      "outputs": [],
      "source": [
        "from langchain.chat_models import ChatOpenAI\n",
        "from langchain.schema import SystemMessage, AIMessage, HumanMessage"
      ]
    },
    {
      "cell_type": "code",
      "source": [
        "import os\n",
        "os.environ['OPENAI_API_KEY']=\"YOUR API\""
      ],
      "metadata": {
        "id": "7MnH7Z_hNDz8"
      },
      "execution_count": null,
      "outputs": []
    },
    {
      "cell_type": "code",
      "source": [
        "chat=ChatOpenAI(temperature=0.1)\n",
        "messages=[SystemMessage(content=\"You are a helpful bot called Aiko.\")]"
      ],
      "metadata": {
        "id": "pATXoX39NG9w"
      },
      "execution_count": null,
      "outputs": []
    },
    {
      "cell_type": "code",
      "source": [
        "while True:\n",
        "    prompt=input(\"You: \")\n",
        "    messages.append(HumanMessage(content=prompt))\n",
        "    response=chat(messages).content\n",
        "    print(response)\n",
        "    messages.append(AIMessage(content=response))"
      ],
      "metadata": {
        "id": "z90D6G0INK6x"
      },
      "execution_count": null,
      "outputs": []
    }
  ]
}